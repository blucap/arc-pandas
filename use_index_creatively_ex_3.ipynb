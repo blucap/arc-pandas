{
 "cells": [
  {
   "cell_type": "markdown",
   "metadata": {},
   "source": [
    "# Pandas and Hierarchical Indexing #\n",
    "\n",
    "## Context\n",
    "Pandas' ability to index data offers additional power to the way you work with data. More interesting is pandas' hierarchical indexing feature, it allows you to slice and dice data in convenient ways.\n",
    "\n",
    "Python and pandas allow you to manage data more efficiently and effectively than, say, Stata. One important problem with Stata is that you have all your data in one large file. As a result your work-file tends to grow, and thus gets messy.\n",
    "\n",
    "## Efficient data management\n",
    "Python and pandas store data in various ways, e.g. in lists, tuples, sets, dictionaries, DataFrames and Series. This is super efficient: each data item can be stored in its most efficient form.\n",
    "\n",
    "On top of that, for pandas there is **indexing** and **hierarchical indexing**. These features offers you the ability to focus on specific data sets within a single DataFrame. For example, your DataFrame may contain firm identification information, such as names and permcos, adjacent to numerical data. If you want to analyze the numbers, items such as names and permcos stand in the way. Hierarchical Indexing offers you a solution: you can set an index in such a way that your analysis only examines the numbers and ignores names and other non-numerical data.\n",
    "\n",
    "Indexing also allows you to **quickly produce tables**, (which then can be used as new DataFrames, etc).\n",
    "\n",
    "An additional feature of indexing is that you can use it to **merge** files quickly. \n",
    "\n",
    "## Examples \n",
    "The examples below demonstrate the virtues of indexing and hierarchical indexing. \n",
    "\n",
    "To reproduce the examples, please download from WRDS some annual and quarterly data from the CRSP Compustat Merge (CCM) database. I use csv format data.\n",
    "\n",
    "More specifically: the **annual data** contains a history (1970-2015) of the following variables:"
   ]
  },
  {
   "cell_type": "code",
   "execution_count": null,
   "metadata": {},
   "outputs": [],
   "source": [
    "datadate, gvkey, curcd, conm, fyr, exchg, cik, costat, fic, sic, fyear, at, caps, ceq,  csho, dvc, dvp, ni"
   ]
  },
  {
   "cell_type": "markdown",
   "metadata": {},
   "source": [
    "The **quarterly data** contains a history (1970-2015) of the following variables:"
   ]
  },
  {
   "cell_type": "code",
   "execution_count": null,
   "metadata": {},
   "outputs": [],
   "source": [
    "datadate, gvkey, prccq, rdq, cshoq, fyr, fyearq"
   ]
  },
  {
   "cell_type": "markdown",
   "metadata": {},
   "source": [
    "## Example 3, slicing and Hierarchical Indexing to report descriptives and to select sets of columns:"
   ]
  },
  {
   "cell_type": "code",
   "execution_count": null,
   "metadata": {
    "nbpresent": {
     "id": "1a527661-7e18-44a1-bac6-b6fa46b3ba5c"
    }
   },
   "outputs": [],
   "source": [
    "import pandas as pd\n",
    "import numpy as np\n",
    "import matplotlib.pyplot as plt\n",
    "import sys\n",
    "import os\n",
    "try:\n",
    "    os.chdir('/home/martien/Dropbox/../folder/')\n",
    "except Exception:\n",
    "    os.chdir('C:/Users/martien/Dropbox/../folder/')\n",
    "pd.set_option('display.max_columns', None)"
   ]
  },
  {
   "cell_type": "code",
   "execution_count": null,
   "metadata": {
    "nbpresent": {
     "id": "719e9bd0-eb98-4609-ac9a-0734906a2cf5"
    }
   },
   "outputs": [],
   "source": [
    "def make_date(df, lyst):\n",
    "    for item in lyst:\n",
    "        df[item] = pd.to_datetime(df[item], format='%Y%m%d')\n",
    "    return(df)\n",
    "\n",
    "def intersect(a, b):\n",
    "    \"\"\" return the intersection of two lists \"\"\"\n",
    "    return list(set(a) & set(b))\n",
    "\n",
    "def read_compustat(fn, lyst, date_lyst=['datadate']):\n",
    "    df = pd.read_csv(fn, low_memory=False)\n",
    "    df.columns = df.columns.str.lower()\n",
    "    # to prevent from trying to load data from columns that are not on file:\n",
    "    lyst = intersect(lyst,list(df))\n",
    "    df = df.drop_duplicates(subset=['gvkey', 'datadate'])\n",
    "    make_date(df, date_lyst)\n",
    "    return(df[lyst])"
   ]
  },
  {
   "cell_type": "code",
   "execution_count": null,
   "metadata": {
    "nbpresent": {
     "id": "9950abd5-b94f-4fc2-96c9-b6cd4b02c7dd"
    }
   },
   "outputs": [],
   "source": [
    "typlist = ['id',    'id',   'id',  'id',    'id',  'id',     'id',  'id',   'data',  'data', 'data', 'data', 'data', 'data', 'data', 'data', 'data',  'data']\n",
    "varlist = ['curcd', 'conm', 'fyr', 'exchg', 'cik', 'costat', 'fic', 'sic',  'fyear', 'at',   'caps', 'ceq',  'csho', 'dvc',  'dvp',  'ni',   'sicno', 'roe']\n",
    "\n",
    "dfa =  read_compustat('annual.csv', ['gvkey', 'datadate'] + varlist, ['datadate'])\n",
    "dfa = dfa.loc[(dfa.curcd == 'USD') & \n",
    "              (dfa.fic == 'USA') & \n",
    "              (~pd.isnull(dfa.ni)) & \n",
    "              (~pd.isnull(dfa.ceq)) & \n",
    "              (~pd.isnull(dfa.fyr)) &  \n",
    "              (~pd.isnull(dfa.fyear))]\n",
    "\n",
    "dfa[['fyr', 'fyear']] = dfa[['fyr', 'fyear']].astype(int)"
   ]
  },
  {
   "cell_type": "markdown",
   "metadata": {},
   "source": [
    "Make a simple industry classification, calculate ROE, where ROE is within reasonable bounds:"
   ]
  },
  {
   "cell_type": "code",
   "execution_count": null,
   "metadata": {
    "nbpresent": {
     "id": "4e001d52-943e-4935-91ee-e4cc854f03ce"
    }
   },
   "outputs": [],
   "source": [
    "dfa['sicno'] = np.floor_divide(dfa.sic.fillna(0), 1000).astype(int)\n",
    "dfa['roe'] = dfa.ni.div(dfa.ceq).clip(-1,10)\n",
    "dfa.head(2)"
   ]
  },
  {
   "cell_type": "code",
   "execution_count": null,
   "metadata": {
    "nbpresent": {
     "id": "d518b291-2747-4874-a671-c4269812ee3d"
    }
   },
   "outputs": [],
   "source": [
    "dfa.set_index(['gvkey', 'datadate'],inplace=True)\n",
    "dfa.head(2)"
   ]
  },
  {
   "cell_type": "markdown",
   "metadata": {},
   "source": [
    "Read the quarterly data and calculate market value:"
   ]
  },
  {
   "cell_type": "code",
   "execution_count": null,
   "metadata": {
    "nbpresent": {
     "id": "16256c64-4890-49c8-8bdc-266e368845d0"
    }
   },
   "outputs": [],
   "source": [
    "dfq = read_compustat('quarterly.csv', ['datadate', 'gvkey', 'prccq', 'rdq', 'cshoq', 'fyr', 'fyearq'], ['datadate', 'rdq'])\n",
    "dfq['mv'] = dfq.prccq * dfq.cshoq"
   ]
  },
  {
   "cell_type": "markdown",
   "metadata": {},
   "source": [
    "Set the index and join."
   ]
  },
  {
   "cell_type": "code",
   "execution_count": null,
   "metadata": {
    "nbpresent": {
     "id": "0bd33af1-3797-4f5c-a561-115ec5a9478d"
    }
   },
   "outputs": [],
   "source": [
    "dfq.set_index(['gvkey', 'datadate'],inplace=True)\n",
    "dfa=dfa[varlist]\n",
    "dfa = dfa.join(dfq['mv'])"
   ]
  },
  {
   "cell_type": "markdown",
   "metadata": {},
   "source": [
    "### Slicing and Hierarchical Indexing - descriptive statistics. ###\n",
    "We will use Hierarchical Indexing to generate descriptive statistics."
   ]
  },
  {
   "cell_type": "code",
   "execution_count": null,
   "metadata": {
    "nbpresent": {
     "id": "82eb76fb-ba52-4792-96d1-ee6fca38b74d"
    }
   },
   "outputs": [],
   "source": [
    "dfa.reset_index(inplace=True)\n",
    "dfa.set_index(['sicno', 'fyear'],inplace=True)\n",
    "dfa.head(2)"
   ]
  },
  {
   "cell_type": "code",
   "execution_count": null,
   "metadata": {},
   "outputs": [],
   "source": [
    "# Industry statistics: means for three variables\n",
    "dfa[['ceq', 'at', 'roe']].mean(level='sicno')"
   ]
  },
  {
   "cell_type": "markdown",
   "metadata": {},
   "source": [
    "Trends over time, but we do not want to report each year. So lets examine every 5th year"
   ]
  },
  {
   "cell_type": "code",
   "execution_count": null,
   "metadata": {},
   "outputs": [],
   "source": [
    "yrs = list(range(1971, 2015, 5))\n",
    "print(yrs)"
   ]
  },
  {
   "cell_type": "code",
   "execution_count": null,
   "metadata": {
    "nbpresent": {
     "id": "b058a97f-7456-4a45-b95f-51eb12c985b4"
    }
   },
   "outputs": [],
   "source": [
    "# Trends over time:\n",
    "dfa.loc(axis=0)[:,yrs][['ceq', 'at', 'roe']].mean(level='fyear')"
   ]
  },
  {
   "cell_type": "code",
   "execution_count": null,
   "metadata": {
    "nbpresent": {
     "id": "3e3e68fc-841a-4d52-bb68-4713f17045cb"
    }
   },
   "outputs": [],
   "source": [
    "#Comprehensive statistics:\n",
    "dfa[['ceq', 'at', 'roe']].describe()"
   ]
  },
  {
   "cell_type": "markdown",
   "metadata": {},
   "source": [
    "Below we use the pivot function to create a neat cross table for medians of ROE for years and industries"
   ]
  },
  {
   "cell_type": "code",
   "execution_count": null,
   "metadata": {
    "nbpresent": {
     "id": "2cab331c-b896-40c0-8df5-dc447399c79d"
    }
   },
   "outputs": [],
   "source": [
    "my_cross_table = dfa.reset_index().groupby(['sicno', 'fyear'])[['roe']].median().reset_index().pivot(index='fyear', columns='sicno', values='roe')\n",
    "my_cross_table.loc[yrs]"
   ]
  },
  {
   "cell_type": "markdown",
   "metadata": {},
   "source": [
    "### Slicing and Hierarchical Indexing - Sets of columns. ###\n",
    "Now we will use a the ypelist and varlist from above to group columns.\n",
    "\n",
    "But first we will reset and set the index."
   ]
  },
  {
   "cell_type": "code",
   "execution_count": null,
   "metadata": {
    "nbpresent": {
     "id": "44a71001-f297-4637-8153-71c96790dc77"
    }
   },
   "outputs": [],
   "source": [
    "dfa.reset_index(inplace=True)\n",
    "dfa.set_index(['gvkey', 'datadate'],inplace=True)\n",
    "dfa.head(2)"
   ]
  },
  {
   "cell_type": "markdown",
   "metadata": {},
   "source": [
    "I forgot to add market value (a data variable) to the list of variables. So let's do that now:"
   ]
  },
  {
   "cell_type": "code",
   "execution_count": null,
   "metadata": {
    "nbpresent": {
     "id": "cf0753ff-b005-4efb-8a2e-a950071ad369"
    }
   },
   "outputs": [],
   "source": [
    "varlist += ['mv']\n",
    "typlist += ['data']"
   ]
  },
  {
   "cell_type": "code",
   "execution_count": null,
   "metadata": {
    "nbpresent": {
     "id": "548385fa-ac7a-458c-b442-5dba84bc3d11"
    }
   },
   "outputs": [],
   "source": [
    "# Check if both list are equally long:\n",
    "len(typlist)\n",
    "dfa.shape\n",
    "len(varlist)"
   ]
  },
  {
   "cell_type": "code",
   "execution_count": null,
   "metadata": {
    "nbpresent": {
     "id": "933af6fa-bb39-4017-8d29-1057d40922ef"
    }
   },
   "outputs": [],
   "source": [
    "# Check if both are in sync:\n",
    "print(varlist)\n",
    "print(typlist)"
   ]
  },
  {
   "cell_type": "code",
   "execution_count": null,
   "metadata": {
    "nbpresent": {
     "id": "3f74064c-2a70-4c4c-a9bc-91b4dd941800"
    }
   },
   "outputs": [],
   "source": [
    "# To make sure the data frame has all variables in the order of the varlist.\n",
    "dfa=dfa[varlist].copy()\n",
    "dfa.head(1)\n",
    "#list(dfa)"
   ]
  },
  {
   "cell_type": "markdown",
   "metadata": {},
   "source": [
    "Here we add the typlist as an additional column index. \n",
    "\n",
    "As you can see below, there are two column indexes: 'id' and 'data'. This enbales us to examine the data section separately."
   ]
  },
  {
   "cell_type": "code",
   "execution_count": null,
   "metadata": {
    "nbpresent": {
     "id": "0f89bd37-6a0e-474d-ac28-c2f937ac602a"
    }
   },
   "outputs": [],
   "source": [
    "#dfa.columns=[varlist]\n",
    "dfa.columns=[typlist, varlist]\n",
    "dfa.columns.names = ['type','compustat']\n",
    "dfa.head()"
   ]
  },
  {
   "cell_type": "code",
   "execution_count": null,
   "metadata": {},
   "outputs": [],
   "source": [
    "# show firm ID info\n",
    "dfa['id'].head(2)\n",
    "dfa['id'].tail(2)"
   ]
  },
  {
   "cell_type": "code",
   "execution_count": null,
   "metadata": {
    "nbpresent": {
     "id": "8e928b90-5a92-4b44-820e-055960267b18"
    }
   },
   "outputs": [],
   "source": [
    "# show data only\n",
    "dfa['data'].head(2)\n",
    "dfa['data'].tail(2)"
   ]
  },
  {
   "cell_type": "markdown",
   "metadata": {},
   "source": [
    "The next examples show some serious pandas magic: I only report descriptive info of the 'data' columns:"
   ]
  },
  {
   "cell_type": "code",
   "execution_count": null,
   "metadata": {
    "nbpresent": {
     "id": "1cdf4bfc-94a4-414a-8b38-bb459b2beba4"
    }
   },
   "outputs": [],
   "source": [
    "dfa['data'].describe()"
   ]
  },
  {
   "cell_type": "code",
   "execution_count": null,
   "metadata": {
    "nbpresent": {
     "id": "15c24eab-4be2-4867-9ecb-1b0145806ca2"
    }
   },
   "outputs": [],
   "source": [
    "# Subset: Total Assets only\n",
    "dfa['data']['at'].describe()"
   ]
  },
  {
   "cell_type": "code",
   "execution_count": null,
   "metadata": {},
   "outputs": [],
   "source": [
    "# Only for a set date or period\n",
    "dfa.loc(axis=0)[:,'1974-12-31']['data'].describe()\n",
    "dfa.loc(axis=0)[:,'1974']['data'].describe()"
   ]
  },
  {
   "cell_type": "markdown",
   "metadata": {},
   "source": [
    "Examine slices of data"
   ]
  },
  {
   "cell_type": "code",
   "execution_count": null,
   "metadata": {},
   "outputs": [],
   "source": [
    "# Post GFC\n",
    "dfa.loc(axis=0)[:,'2009':'2016']['data'].describe()\n",
    "# Microsoft\n",
    "dfa.loc(axis=0)[12141,'1984':'2010']['data'].describe()"
   ]
  }
 ],
 "metadata": {
  "kernelspec": {
   "display_name": "Python [conda env:python3]",
   "language": "python",
   "name": "conda-env-python3-py"
  },
  "language_info": {
   "codemirror_mode": {
    "name": "ipython",
    "version": 3
   },
   "file_extension": ".py",
   "mimetype": "text/x-python",
   "name": "python",
   "nbconvert_exporter": "python",
   "pygments_lexer": "ipython3",
   "version": "3.5.4"
  },
  "nbpresent": {
   "slides": {
    "098f675a-10c8-4f6d-9658-c10e3ab94af8": {
     "id": "098f675a-10c8-4f6d-9658-c10e3ab94af8",
     "prev": "e8de7332-9d25-4e26-a961-a8becea0de25",
     "regions": {
      "cd4969b2-9991-445e-8c8c-95f063f4aa78": {
       "attrs": {
        "height": 0.8,
        "width": 0.8,
        "x": 0.1,
        "y": 0.1
       },
       "content": {
        "cell": "16256c64-4890-49c8-8bdc-266e368845d0",
        "part": "whole"
       },
       "id": "cd4969b2-9991-445e-8c8c-95f063f4aa78"
      }
     }
    },
    "17b4d8d4-e93f-4a2a-ad6e-a524814168fc": {
     "id": "17b4d8d4-e93f-4a2a-ad6e-a524814168fc",
     "prev": "ad08e736-6705-4b87-8e29-078d60447313",
     "regions": {
      "a8682039-322f-4a7b-9864-a0908f8aab99": {
       "attrs": {
        "height": 0.8,
        "width": 0.8,
        "x": 0.1,
        "y": 0.1
       },
       "content": {
        "cell": "cf0753ff-b005-4efb-8a2e-a950071ad369",
        "part": "whole"
       },
       "id": "a8682039-322f-4a7b-9864-a0908f8aab99"
      }
     }
    },
    "1a893385-aa99-465f-9aac-ffe53c060975": {
     "id": "1a893385-aa99-465f-9aac-ffe53c060975",
     "layout": "grid",
     "prev": null,
     "regions": {
      "27fdfb78-5049-4bc9-92ec-20a9feea9347": {
       "attrs": {
        "height": 1,
        "pad": 0.01,
        "treemap:weight": 1,
        "width": 0.5,
        "x": 0.5,
        "y": 0
       },
       "id": "27fdfb78-5049-4bc9-92ec-20a9feea9347"
      },
      "909cc235-7292-4a5b-9e39-04b4d888836c": {
       "attrs": {
        "height": 1,
        "pad": 0.01,
        "treemap:weight": 1,
        "width": 0.5,
        "x": 0,
        "y": 0
       },
       "id": "909cc235-7292-4a5b-9e39-04b4d888836c"
      }
     }
    },
    "1bf774a1-2d0f-4dd3-9922-c84e65f70af5": {
     "id": "1bf774a1-2d0f-4dd3-9922-c84e65f70af5",
     "prev": "dd6d1ff2-024d-455d-b2af-8196dd7df5d9",
     "regions": {
      "9037a599-499c-40c7-8886-0a1d0ab8c411": {
       "attrs": {
        "height": 0.8,
        "width": 0.8,
        "x": 0.1,
        "y": 0.1
       },
       "content": {
        "cell": "366c09fe-7154-4791-a612-76fa221219ef",
        "part": "whole"
       },
       "id": "9037a599-499c-40c7-8886-0a1d0ab8c411"
      }
     }
    },
    "37c56352-17ab-40e6-b2c2-bc3718f98d94": {
     "id": "37c56352-17ab-40e6-b2c2-bc3718f98d94",
     "prev": "8227a2d0-4727-41b2-bb2a-814a086093bf",
     "regions": {
      "1c5f228d-4892-41f0-97e6-19f31b8f093a": {
       "attrs": {
        "height": 0.8,
        "width": 0.8,
        "x": 0.1,
        "y": 0.1
       },
       "content": {
        "cell": "2cab331c-b896-40c0-8df5-dc447399c79d",
        "part": "whole"
       },
       "id": "1c5f228d-4892-41f0-97e6-19f31b8f093a"
      }
     }
    },
    "4754bfdd-5bdc-41b0-8ddf-a33e81b7d00e": {
     "id": "4754bfdd-5bdc-41b0-8ddf-a33e81b7d00e",
     "prev": "ed0b68fd-9795-4207-bc15-5585156cc9e4",
     "regions": {
      "b02c4075-4a2d-4cde-ac63-b01b2f2403e6": {
       "attrs": {
        "height": 0.8,
        "width": 0.8,
        "x": 0.1,
        "y": 0.1
       },
       "content": {
        "cell": "82eb76fb-ba52-4792-96d1-ee6fca38b74d",
        "part": "whole"
       },
       "id": "b02c4075-4a2d-4cde-ac63-b01b2f2403e6"
      }
     }
    },
    "4de0ed20-c253-4f91-81bc-3e34c97a465e": {
     "id": "4de0ed20-c253-4f91-81bc-3e34c97a465e",
     "prev": "9bb8d336-9271-49f1-bcc7-02205f5d3f4b",
     "regions": {
      "a4d6ff2c-9f90-4acb-a825-9a340a5eed0a": {
       "attrs": {
        "height": 0.8,
        "width": 0.8,
        "x": 0.1,
        "y": 0.1
       },
       "content": {
        "cell": "3f74064c-2a70-4c4c-a9bc-91b4dd941800",
        "part": "whole"
       },
       "id": "a4d6ff2c-9f90-4acb-a825-9a340a5eed0a"
      }
     }
    },
    "5def48c1-2530-4974-afc8-b1def5467835": {
     "id": "5def48c1-2530-4974-afc8-b1def5467835",
     "prev": "f176c23d-2418-4c3a-950d-d4660d091737",
     "regions": {
      "b475f2ea-393f-4bca-96e0-247a232108f8": {
       "attrs": {
        "height": 0.8,
        "width": 0.8,
        "x": 0.1,
        "y": 0.1
       },
       "content": {
        "cell": "f1254a34-4a1e-4b86-8f1e-a82a1351dd24",
        "part": "whole"
       },
       "id": "b475f2ea-393f-4bca-96e0-247a232108f8"
      }
     }
    },
    "773872e3-5573-4da5-bd77-6c93bbcab59c": {
     "id": "773872e3-5573-4da5-bd77-6c93bbcab59c",
     "prev": "d96b32f1-a212-436f-810c-3ddce8183706",
     "regions": {
      "c19eece1-c523-424a-8920-1c666a9fdbfe": {
       "attrs": {
        "height": 0.8,
        "width": 0.8,
        "x": 0.1,
        "y": 0.1
       },
       "content": {
        "cell": "8e928b90-5a92-4b44-820e-055960267b18",
        "part": "whole"
       },
       "id": "c19eece1-c523-424a-8920-1c666a9fdbfe"
      }
     }
    },
    "7cf0bc5d-2fc8-46eb-ae6f-c965b5d671d2": {
     "id": "7cf0bc5d-2fc8-46eb-ae6f-c965b5d671d2",
     "prev": "bf8db3ff-ebd2-4397-b2da-b50b7b455081",
     "regions": {
      "b4507d58-7e80-4ae8-8fe1-46b09cbba340": {
       "attrs": {
        "height": 0.8,
        "width": 0.8,
        "x": 0.1,
        "y": 0.1
       },
       "content": {
        "cell": "15c24eab-4be2-4867-9ecb-1b0145806ca2",
        "part": "whole"
       },
       "id": "b4507d58-7e80-4ae8-8fe1-46b09cbba340"
      }
     }
    },
    "8227a2d0-4727-41b2-bb2a-814a086093bf": {
     "id": "8227a2d0-4727-41b2-bb2a-814a086093bf",
     "prev": "f9b4c762-0fb7-4d96-817a-e1020aca50de",
     "regions": {
      "41f7f165-4e11-4ddd-9000-2b5f118394e6": {
       "attrs": {
        "height": 0.8,
        "width": 0.8,
        "x": 0.1,
        "y": 0.1
       },
       "content": {
        "cell": "3e3e68fc-841a-4d52-bb68-4713f17045cb",
        "part": "whole"
       },
       "id": "41f7f165-4e11-4ddd-9000-2b5f118394e6"
      }
     }
    },
    "92350988-2717-4386-bdd7-2fb9ad92de18": {
     "id": "92350988-2717-4386-bdd7-2fb9ad92de18",
     "prev": "7cf0bc5d-2fc8-46eb-ae6f-c965b5d671d2",
     "regions": {
      "e9177475-f374-4380-8cb9-fa8dd9fb17ca": {
       "attrs": {
        "height": 0.8,
        "width": 0.8,
        "x": 0.1,
        "y": 0.1
       },
       "content": {
        "cell": "af48ff57-09b1-4411-ab4a-68794b9ba935",
        "part": "whole"
       },
       "id": "e9177475-f374-4380-8cb9-fa8dd9fb17ca"
      }
     }
    },
    "9bb8d336-9271-49f1-bcc7-02205f5d3f4b": {
     "id": "9bb8d336-9271-49f1-bcc7-02205f5d3f4b",
     "prev": "b8b4d0ed-b879-4457-ae2f-32bc695003bf",
     "regions": {
      "0e8c65f5-7f2d-43a7-9de6-bd9d62705f94": {
       "attrs": {
        "height": 0.8,
        "width": 0.8,
        "x": 0.1,
        "y": 0.1
       },
       "content": {
        "cell": "933af6fa-bb39-4017-8d29-1057d40922ef",
        "part": "whole"
       },
       "id": "0e8c65f5-7f2d-43a7-9de6-bd9d62705f94"
      }
     }
    },
    "9ea35d43-4ceb-4a11-a1cf-29fa8807f801": {
     "id": "9ea35d43-4ceb-4a11-a1cf-29fa8807f801",
     "prev": "098f675a-10c8-4f6d-9658-c10e3ab94af8",
     "regions": {
      "7b50984f-40ab-47f5-a77b-0dfcefe667c1": {
       "attrs": {
        "height": 0.8,
        "width": 0.8,
        "x": 0.1,
        "y": 0.1
       },
       "content": {
        "cell": "0bd33af1-3797-4f5c-a561-115ec5a9478d",
        "part": "whole"
       },
       "id": "7b50984f-40ab-47f5-a77b-0dfcefe667c1"
      }
     }
    },
    "a19b6fd9-bfef-4ae6-b989-64a2584a8fc8": {
     "id": "a19b6fd9-bfef-4ae6-b989-64a2584a8fc8",
     "prev": "fe6aeb2f-9bb4-4463-b846-ab6c7aadd004",
     "regions": {
      "b062ae18-2a7e-4e61-945d-d8092692df98": {
       "attrs": {
        "height": 0.8,
        "width": 0.8,
        "x": 0.1,
        "y": 0.1
       },
       "content": {
        "cell": "a5e4c19c-32da-465a-9ff6-c70343ca778c",
        "part": "whole"
       },
       "id": "b062ae18-2a7e-4e61-945d-d8092692df98"
      }
     }
    },
    "aa13d8a3-0962-40bf-87d2-ce73d94ba36d": {
     "id": "aa13d8a3-0962-40bf-87d2-ce73d94ba36d",
     "prev": "da8c8fd1-b386-45f7-9f94-126bc6dfebee",
     "regions": {
      "a18f28e4-b244-47c4-bb56-38d3e0c62392": {
       "attrs": {
        "height": 0.8,
        "width": 0.8,
        "x": 0.1,
        "y": 0.1
       },
       "content": {
        "cell": "43e2a82b-7df5-435a-a388-81d3a70167d5",
        "part": "whole"
       },
       "id": "a18f28e4-b244-47c4-bb56-38d3e0c62392"
      }
     }
    },
    "ad08e736-6705-4b87-8e29-078d60447313": {
     "id": "ad08e736-6705-4b87-8e29-078d60447313",
     "prev": "37c56352-17ab-40e6-b2c2-bc3718f98d94",
     "regions": {
      "0b3bca29-ffa2-4349-ac96-d34952ffb6bf": {
       "attrs": {
        "height": 0.8,
        "width": 0.8,
        "x": 0.1,
        "y": 0.1
       },
       "content": {
        "cell": "44a71001-f297-4637-8153-71c96790dc77",
        "part": "whole"
       },
       "id": "0b3bca29-ffa2-4349-ac96-d34952ffb6bf"
      }
     }
    },
    "af2205d1-dd6d-4824-b9cd-ab2e19ab7d4f": {
     "id": "af2205d1-dd6d-4824-b9cd-ab2e19ab7d4f",
     "prev": "5def48c1-2530-4974-afc8-b1def5467835",
     "regions": {
      "a76da9fb-488f-4b76-a280-f411da6fc324": {
       "attrs": {
        "height": 0.8,
        "width": 0.8,
        "x": 0.1,
        "y": 0.1
       },
       "content": {
        "cell": "4e001d52-943e-4935-91ee-e4cc854f03ce",
        "part": "whole"
       },
       "id": "a76da9fb-488f-4b76-a280-f411da6fc324"
      }
     }
    },
    "b2e746c2-0489-4dc8-bec2-5ea4755eefca": {
     "id": "b2e746c2-0489-4dc8-bec2-5ea4755eefca",
     "prev": "1bf774a1-2d0f-4dd3-9922-c84e65f70af5",
     "regions": {
      "7f464fcd-bcea-4013-81b1-e7d075fbd8cd": {
       "attrs": {
        "height": 0.8,
        "width": 0.8,
        "x": 0.1,
        "y": 0.1
       },
       "content": {
        "cell": "f424de61-38d7-436a-b573-eee6554946b1",
        "part": "whole"
       },
       "id": "7f464fcd-bcea-4013-81b1-e7d075fbd8cd"
      }
     }
    },
    "b8b4d0ed-b879-4457-ae2f-32bc695003bf": {
     "id": "b8b4d0ed-b879-4457-ae2f-32bc695003bf",
     "prev": "17b4d8d4-e93f-4a2a-ad6e-a524814168fc",
     "regions": {
      "d3e4a669-5be6-4a8e-b3c0-b190713fecbd": {
       "attrs": {
        "height": 0.8,
        "width": 0.8,
        "x": 0.1,
        "y": 0.1
       },
       "content": {
        "cell": "548385fa-ac7a-458c-b442-5dba84bc3d11",
        "part": "whole"
       },
       "id": "d3e4a669-5be6-4a8e-b3c0-b190713fecbd"
      }
     }
    },
    "bb1c7b7c-bd93-4c88-b933-9ba053b11bb2": {
     "id": "bb1c7b7c-bd93-4c88-b933-9ba053b11bb2",
     "prev": "eea19b72-8940-4a7a-b375-88016ebdb790",
     "regions": {
      "9af24a22-1d7e-40d1-b07e-409aac219f18": {
       "attrs": {
        "height": 0.8,
        "width": 0.8,
        "x": 0.1,
        "y": 0.1
       },
       "content": {
        "cell": "9950abd5-b94f-4fc2-96c9-b6cd4b02c7dd",
        "part": "whole"
       },
       "id": "9af24a22-1d7e-40d1-b07e-409aac219f18"
      }
     }
    },
    "bf8db3ff-ebd2-4397-b2da-b50b7b455081": {
     "id": "bf8db3ff-ebd2-4397-b2da-b50b7b455081",
     "prev": "773872e3-5573-4da5-bd77-6c93bbcab59c",
     "regions": {
      "797608d6-84a3-4c1e-98de-8cda0e9f936f": {
       "attrs": {
        "height": 0.8,
        "width": 0.8,
        "x": 0.1,
        "y": 0.1
       },
       "content": {
        "cell": "1cdf4bfc-94a4-414a-8b38-bb459b2beba4",
        "part": "whole"
       },
       "id": "797608d6-84a3-4c1e-98de-8cda0e9f936f"
      }
     }
    },
    "c69607ce-5342-4854-89be-e236d16581bb": {
     "id": "c69607ce-5342-4854-89be-e236d16581bb",
     "prev": "f6d42e6f-dcca-479c-bf7a-e4191fb15b87",
     "regions": {
      "51419d0c-ccc6-4227-b134-7eda52966445": {
       "attrs": {
        "height": 0.8,
        "width": 0.8,
        "x": 0.1,
        "y": 0.1
       },
       "content": {
        "cell": "65542dda-cd5b-4676-868e-63ba37551e01",
        "part": "whole"
       },
       "id": "51419d0c-ccc6-4227-b134-7eda52966445"
      }
     }
    },
    "d12636ad-d7bf-4ec2-8b11-2dad14b9149c": {
     "id": "d12636ad-d7bf-4ec2-8b11-2dad14b9149c",
     "prev": "b2e746c2-0489-4dc8-bec2-5ea4755eefca",
     "regions": {
      "9e27b2c0-358a-425b-a17b-1d2bccdbb80a": {
       "attrs": {
        "height": 0.8,
        "width": 0.8,
        "x": 0.1,
        "y": 0.1
       },
       "content": {
        "cell": "589a9d92-e6f2-4e23-a942-7ea6137d2fdf",
        "part": "whole"
       },
       "id": "9e27b2c0-358a-425b-a17b-1d2bccdbb80a"
      }
     }
    },
    "d96b32f1-a212-436f-810c-3ddce8183706": {
     "id": "d96b32f1-a212-436f-810c-3ddce8183706",
     "prev": "a19b6fd9-bfef-4ae6-b989-64a2584a8fc8",
     "regions": {
      "dc56973b-d219-46b3-baba-65063af3be31": {
       "attrs": {
        "height": 0.8,
        "width": 0.8,
        "x": 0.1,
        "y": 0.1
       },
       "content": {
        "cell": "773a3033-5a59-4a86-b41f-f7e8d1aef431",
        "part": "whole"
       },
       "id": "dc56973b-d219-46b3-baba-65063af3be31"
      }
     }
    },
    "da8c8fd1-b386-45f7-9f94-126bc6dfebee": {
     "id": "da8c8fd1-b386-45f7-9f94-126bc6dfebee",
     "prev": "9ea35d43-4ceb-4a11-a1cf-29fa8807f801",
     "regions": {
      "aa820580-cc1d-4a12-bc17-deea4483f986": {
       "attrs": {
        "height": 0.8,
        "width": 0.8,
        "x": 0.1,
        "y": 0.1
       },
       "content": {
        "cell": "f0123312-4caf-4d63-9be7-6ab45e769b50",
        "part": "whole"
       },
       "id": "aa820580-cc1d-4a12-bc17-deea4483f986"
      }
     }
    },
    "dd6d1ff2-024d-455d-b2af-8196dd7df5d9": {
     "id": "dd6d1ff2-024d-455d-b2af-8196dd7df5d9",
     "prev": "aa13d8a3-0962-40bf-87d2-ce73d94ba36d",
     "regions": {
      "6ac1969d-ae8a-4034-a47a-c6048be15b25": {
       "attrs": {
        "height": 0.8,
        "width": 0.8,
        "x": 0.1,
        "y": 0.1
       },
       "content": {
        "cell": "a2805288-2a74-4f2c-8196-5762df03d659",
        "part": "whole"
       },
       "id": "6ac1969d-ae8a-4034-a47a-c6048be15b25"
      }
     }
    },
    "e8de7332-9d25-4e26-a961-a8becea0de25": {
     "id": "e8de7332-9d25-4e26-a961-a8becea0de25",
     "prev": "af2205d1-dd6d-4824-b9cd-ab2e19ab7d4f",
     "regions": {
      "dec92ae8-224e-45ee-b586-9f33908c5f69": {
       "attrs": {
        "height": 0.8,
        "width": 0.8,
        "x": 0.1,
        "y": 0.1
       },
       "content": {
        "cell": "d518b291-2747-4874-a671-c4269812ee3d",
        "part": "whole"
       },
       "id": "dec92ae8-224e-45ee-b586-9f33908c5f69"
      }
     }
    },
    "ed0b68fd-9795-4207-bc15-5585156cc9e4": {
     "id": "ed0b68fd-9795-4207-bc15-5585156cc9e4",
     "prev": "d12636ad-d7bf-4ec2-8b11-2dad14b9149c",
     "regions": {
      "929ac391-6829-4641-9249-e68534998c43": {
       "attrs": {
        "height": 0.8,
        "width": 0.8,
        "x": 0.1,
        "y": 0.1
       },
       "content": {
        "cell": "69e83272-c429-4728-86a1-25e03b427498",
        "part": "whole"
       },
       "id": "929ac391-6829-4641-9249-e68534998c43"
      }
     }
    },
    "eea19b72-8940-4a7a-b375-88016ebdb790": {
     "id": "eea19b72-8940-4a7a-b375-88016ebdb790",
     "prev": "c69607ce-5342-4854-89be-e236d16581bb",
     "regions": {
      "3e107d2b-ddea-4d13-96ae-4c6bf1dd0231": {
       "attrs": {
        "height": 0.8,
        "width": 0.8,
        "x": 0.1,
        "y": 0.1
       },
       "content": {
        "cell": "719e9bd0-eb98-4609-ac9a-0734906a2cf5",
        "part": "whole"
       },
       "id": "3e107d2b-ddea-4d13-96ae-4c6bf1dd0231"
      }
     }
    },
    "f176c23d-2418-4c3a-950d-d4660d091737": {
     "id": "f176c23d-2418-4c3a-950d-d4660d091737",
     "prev": "bb1c7b7c-bd93-4c88-b933-9ba053b11bb2",
     "regions": {
      "b5eb5d13-04ee-46f0-aff6-867d8958f765": {
       "attrs": {
        "height": 0.8,
        "width": 0.8,
        "x": 0.1,
        "y": 0.1
       },
       "content": {
        "cell": "8c954480-2dcc-48f3-bd97-dc79aa58a1f1",
        "part": "whole"
       },
       "id": "b5eb5d13-04ee-46f0-aff6-867d8958f765"
      }
     }
    },
    "f6d42e6f-dcca-479c-bf7a-e4191fb15b87": {
     "id": "f6d42e6f-dcca-479c-bf7a-e4191fb15b87",
     "prev": null,
     "regions": {
      "692b0199-b508-42ff-bdb0-9011658ad569": {
       "attrs": {
        "height": 0.8,
        "width": 0.8,
        "x": 0.1,
        "y": 0.1
       },
       "content": {
        "cell": "1a527661-7e18-44a1-bac6-b6fa46b3ba5c",
        "part": "whole"
       },
       "id": "692b0199-b508-42ff-bdb0-9011658ad569"
      }
     }
    },
    "f9b4c762-0fb7-4d96-817a-e1020aca50de": {
     "id": "f9b4c762-0fb7-4d96-817a-e1020aca50de",
     "prev": "4754bfdd-5bdc-41b0-8ddf-a33e81b7d00e",
     "regions": {
      "942f50ac-92b7-4f7c-8685-873632dbea48": {
       "attrs": {
        "height": 0.8,
        "width": 0.8,
        "x": 0.1,
        "y": 0.1
       },
       "content": {
        "cell": "b058a97f-7456-4a45-b95f-51eb12c985b4",
        "part": "whole"
       },
       "id": "942f50ac-92b7-4f7c-8685-873632dbea48"
      }
     }
    },
    "fe6aeb2f-9bb4-4463-b846-ab6c7aadd004": {
     "id": "fe6aeb2f-9bb4-4463-b846-ab6c7aadd004",
     "prev": "4de0ed20-c253-4f91-81bc-3e34c97a465e",
     "regions": {
      "5e495c36-460a-4985-a8da-df8859813d52": {
       "attrs": {
        "height": 0.8,
        "width": 0.8,
        "x": 0.1,
        "y": 0.1
       },
       "content": {
        "cell": "0f89bd37-6a0e-474d-ac28-c2f937ac602a",
        "part": "whole"
       },
       "id": "5e495c36-460a-4985-a8da-df8859813d52"
      }
     }
    }
   },
   "themes": {}
  }
 },
 "nbformat": 4,
 "nbformat_minor": 2
}
